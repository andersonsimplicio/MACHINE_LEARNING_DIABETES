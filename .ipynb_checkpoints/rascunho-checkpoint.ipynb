{
 "cells": [
  {
   "cell_type": "code",
   "execution_count": 1,
   "metadata": {},
   "outputs": [],
   "source": [
    "from scipy.stats import normaltest"
   ]
  },
  {
   "cell_type": "markdown",
   "metadata": {},
   "source": [
    "## Rejeitar H0 se p <= 0.05\n"
   ]
  },
  {
   "cell_type": "code",
   "execution_count": 3,
   "metadata": {},
   "outputs": [],
   "source": [
    "significancia = 5e-2"
   ]
  },
  {
   "cell_type": "markdown",
   "metadata": {},
   "source": [
    "stat_teste, p_valor = normaltest(df_diabetes.Pregnancies);\n",
    "print(f'{p_valor} <= {significancia} :{p_valor <= significancia} ')\n",
    "stat_teste, p_valor = normaltest(df_diabetes.PlasmaGlucose)\n",
    "p_valor = float(format(p_valor, '8f'))\n",
    "print(f'{p_valor} <= {significancia} :{p_valor <= significancia} ')\n",
    "stat_teste, p_valor = normaltest(df_diabetes.DiastolicBloodPressure);\n",
    "print(f'{p_valor} <= {significancia} :{p_valor <= significancia } ')\n",
    "stat_teste, p_valor = normaltest(df_diabetes.TricepsThickness);\n",
    "print(f'{p_valor} <= {significancia} :{p_valor <= significancia } ')\n",
    "stat_teste, p_valor = normaltest(df_diabetes.SerumInsulin);\n",
    "print(f'{p_valor} <= {significancia} :{p_valor <= significancia } ')\n",
    "stat_teste, p_valor = normaltest(df_diabetes.BMI);\n",
    "print(f'{p_valor} <= {significancia} :{p_valor <= significancia } ')\n",
    "stat_teste, p_valor = normaltest(df_diabetes.DiabetesPedigree);\n",
    "print(f'{p_valor} <= {significancia} :{p_valor <= significancia } ')\n",
    "stat_teste, p_valor = normaltest(df_diabetes.Age);\n",
    "print(f'{p_valor} <= {significancia} :{p_valor <= significancia } ')\n",
    "\n",
    "### Valores da Covâriancia:\n",
    "<ul>\n",
    "<li> > 0 : variaveis se movem juntas </li>\n",
    "<li> < 0 : variaveis se movem de forma(direção) oposta</li> \n",
    "<li> = 0 : variaveis são independentes.</li>\n",
    "</ul>"
   ]
  },
  {
   "cell_type": "markdown",
   "metadata": {},
   "source": [
    "df_diabetes.Age.describe()\n",
    "df_ages = df_diabetes.Age.sample(30)\n",
    "df_ages.describe()\n",
    "n = 1000\n",
    "media = df_ages.mean()\n",
    "dp = df_ages.std()\n",
    "alpha = 0.05\n",
    "1-alpha\n",
    "z = norm.ppf(1 - alpha)\n",
    "x_inferior = media - z * (dp/ math.sqrt(n))\n",
    "x_superior = media + z * (dp/ math.sqrt(n))\n",
    "margen_erro = abs(media-x_superior)\n",
    "x_inferior,x_superior,margen_erro"
   ]
  },
  {
   "cell_type": "markdown",
   "metadata": {},
   "source": [
    "#df_diabetes['DiastolicBloodPressure'][df_diabetes['DiastolicBloodPressure'] > 0].mean()"
   ]
  },
  {
   "cell_type": "markdown",
   "metadata": {},
   "source": [
    "#df_diabetes['DiastolicBloodPressure'][df_diabetes['DiastolicBloodPressure'] > 0].mean()"
   ]
  },
  {
   "cell_type": "code",
   "execution_count": 1,
   "metadata": {},
   "outputs": [],
   "source": [
    "#df_diabetes.loc[df_diabetes['DiastolicBloodPressure']==0,'DiastolicBloodPressure']=71.28"
   ]
  },
  {
   "cell_type": "code",
   "execution_count": 2,
   "metadata": {},
   "outputs": [],
   "source": [
    "#df_diabetes[df_diabetes['TricepsThickness']==0]"
   ]
  },
  {
   "cell_type": "code",
   "execution_count": 3,
   "metadata": {},
   "outputs": [],
   "source": [
    "#df_diabetes[df_diabetes['DiastolicBloodPressure']==0.000000]\n",
    "#df_diabetes[df_diabetes['DiabetesPedigree']>1].describe()"
   ]
  },
  {
   "cell_type": "code",
   "execution_count": 1,
   "metadata": {},
   "outputs": [],
   "source": [
    "# no_diabetic = df_diabetes[df_diabetes['Diabetic']==0].sample(3800)\n",
    "# diabetic =  df_diabetes[df_diabetes['Diabetic']==1].sample(3800)\n",
    "# df_diabetes =pd.merge(diabetic,no_diabetic, how = 'outer')"
   ]
  },
  {
   "cell_type": "code",
   "execution_count": null,
   "metadata": {},
   "outputs": [],
   "source": [
    "# colunas = x_treinamento.shape[1]\n",
    "# features = ['Pregnancies', 'PlasmaGlucose', 'DiastolicBloodPressure',\n",
    "#        'TricepsThickness', 'SerumInsulin', 'BMI', 'DiabetesPedigree', 'Age']\n",
    "# for col in range(0,colunas):\n",
    "#     fig = plt.figure()\n",
    "#     ax = fig.add_subplot(1,1,1)\n",
    "#     stats.probplot(x_treinamento[col],dist='norm',plot=ax)\n",
    "#     plt.title(features[col])\n",
    "#     plt.show()\n",
    "\n",
    "# colunas = x_treinamento.shape[1]\n",
    "# features = ['Pregnancies', 'PlasmaGlucose', 'DiastolicBloodPressure',\n",
    "#        'TricepsThickness', 'SerumInsulin', 'BMI', 'DiabetesPedigree', 'Age']\n",
    "# for col in range(0,colunas):\n",
    "#     fig = plt.figure()\n",
    "#     ax = fig.add_subplot(1,1,1)\n",
    "#     plt.hist(x_treinamento[col])\n",
    "#     plt.title(features[col])\n",
    "#     plt.show()"
   ]
  },
  {
   "cell_type": "code",
   "execution_count": 1,
   "metadata": {},
   "outputs": [],
   "source": [
    "# dfPimaIndia = pd.read_csv('database/PimaIndians.csv')\n",
    "# df_dat_lab = pd.read_csv('database/dat263x-lab01.csv')\n",
    "# del df_dat_lab['PatientID']\n",
    "# dfPimaIndia.rename(columns={\n",
    "#     'Glucose': 'PlasmaGlucose',\n",
    "#     'BloodPressure':'DiastolicBloodPressure',\n",
    "#     'SkinThickness':'TricepsThickness',\n",
    "#     'Insulin':'SerumInsulin',\n",
    "#     'DiabetesPedigreeFunction':'DiabetesPedigree',\n",
    "#     'Outcome':'Diabetic'\n",
    "# }, inplace = True)\n",
    "# df_diabetes = pd.merge(df_dat_lab,dfPimaIndia, how = 'outer')\n",
    "# fator = 1.5\n",
    "# for coluna in ['PlasmaGlucose', 'DiastolicBloodPressure',\n",
    "#        'TricepsThickness', 'BMI', 'SerumInsulin','DiabetesPedigree','Age']:\n",
    "#     print(f'{coluna}')\n",
    "#     q1,q3 =  df_diabetes[coluna].quantile([0.25,0.75])\n",
    "#     iqr = q3 - q1\n",
    "#     limite_inferior = q1 - (iqr * fator)\n",
    "#     limite_superior = q3 + (iqr * fator)\n",
    "#     df_diabetes = df_diabetes[(df_diabetes[coluna] < limite_superior) & (df_diabetes[coluna] > limite_inferior)]\n",
    "# colunas = ['Age','TricepsThickness', 'SerumInsulin', 'BMI','DiastolicBloodPressure']\n",
    "\n",
    "# for col in colunas:\n",
    "#     media = df_diabetes.loc[df_diabetes[col]>0,col].mean()\n",
    "#     df_diabetes.loc[df_diabetes[col]==0,col]=media\n",
    "    \n",
    "# with open('modelo/hba1c.pkl', 'rb') as f:\n",
    "#     model_hba1c = pickle.load(f)\n",
    "# hba1c = model_hba1c.predict(df_diabetes[['Age','BMI','Diabetic']].values)\n",
    "# df_diabetes['hba1c']=hba1c\n",
    "# df_diabetes = df_diabetes[['Pregnancies', 'PlasmaGlucose', 'DiastolicBloodPressure',\n",
    "#        'TricepsThickness', 'SerumInsulin', 'BMI', 'DiabetesPedigree', 'Age','hba1c',\n",
    "#        'Diabetic']]\n",
    "# df_diabetes\n",
    "# ###Divisão dos atributos previsores\n",
    "# X_diabetes = df_diabetes.iloc[:,0:9].values\n",
    "# ###criando a classe \n",
    "# y_diabetes = df_diabetes.iloc[:,9].values\n",
    "# x_treinamento, x_teste, y_treinamento, y_teste = train_test_split(X_diabetes, y_diabetes, \\\n",
    "#                                                                   test_size=0.25,random_state=0)\n",
    "# with open('database/diabetes_no_stander.pkl',mode='wb') as f:\n",
    "#       pickle.dump([x_treinamento,y_treinamento,x_teste,y_teste],f)"
   ]
  },
  {
   "cell_type": "code",
   "execution_count": null,
   "metadata": {},
   "outputs": [],
   "source": [
    "# results = cross_validate(modeloDummy, x_treinamento, y_treinamento, cv = 10, return_train_score=False)\n",
    "# media = results['test_score'].mean()\n",
    "# desvio_padrao = results['test_score'].std()\n",
    "# print(\"Accuracy com dummy stratified, 10 = [%.2f, %.2f]\" % ((media - 2 * desvio_padrao)*100, (media + 2 * desvio_padrao) * 100))"
   ]
  },
  {
   "cell_type": "code",
   "execution_count": null,
   "metadata": {},
   "outputs": [],
   "source": [
    "#  results = cross_validate(arvore, x_treinamento, y_treinamento, cv = 10, return_train_score=False)\n",
    "#     media = results['test_score'].mean()\n",
    "#     desvio_padrao = results['test_score'].std()\n",
    "#     limite_inf =(media - (2 * desvio_padrao))*100\n",
    "#     limite_sup =(media + (2 * desvio_padrao))*100\n",
    "#     if limite_inf > m_inf and limite_sup > m_sup:\n",
    "#         m_inf=limite_inf\n",
    "#         m_sup=limite_sup\n",
    "#         depth=i\n",
    "#         r=results"
   ]
  },
  {
   "cell_type": "code",
   "execution_count": 2,
   "metadata": {},
   "outputs": [],
   "source": [
    "\n",
    "# def imprime_resultados(results):\n",
    "#   media = results['test_score'].mean() * 100\n",
    "#   desvio = results['test_score'].std() * 100\n",
    "#   print(\"Accuracy médio %.2f\" % media)\n",
    "#   print(\"Intervalo [%.2f, %.2f]\" % (media - 2 * desvio, media + 2 * desvio))\n"
   ]
  },
  {
   "cell_type": "code",
   "execution_count": null,
   "metadata": {},
   "outputs": [],
   "source": [
    "# dfPimaIndia = pd.read_csv('database/PimaIndians.csv')\n",
    "# df_dat_lab = pd.read_csv('database/dat263x-lab01.csv')\n",
    "\n",
    "# del df_dat_lab['PatientID']\n",
    "# dfPimaIndia.rename(columns={\n",
    "#     'Glucose': 'PlasmaGlucose',\n",
    "#     'BloodPressure':'DiastolicBloodPressure',\n",
    "#     'SkinThickness':'TricepsThickness',\n",
    "#     'Insulin':'SerumInsulin',\n",
    "#     'DiabetesPedigreeFunction':'DiabetesPedigree',\n",
    "#     'Outcome':'Diabetic'\n",
    "# }, inplace = True)\n",
    "# df_diabetes = pd.merge(df_dat_lab,dfPimaIndia, how = 'outer')\n",
    "# fator = 1.5\n",
    "# for coluna in ['PlasmaGlucose', 'DiastolicBloodPressure',\n",
    "#        'TricepsThickness', 'BMI', 'SerumInsulin','DiabetesPedigree','Age']:\n",
    "#     print(f'{coluna}')\n",
    "#     q1,q3 =  df_diabetes[coluna].quantile([0.25,0.75])\n",
    "#     iqr = q3 - q1\n",
    "#     limite_inferior = q1 - (iqr * fator)\n",
    "#     limite_superior = q3 + (iqr * fator)\n",
    "#     df_diabetes = df_diabetes[(df_diabetes[coluna] < limite_superior) & (df_diabetes[coluna] > limite_inferior)]\n",
    "# colunas = ['Age','TricepsThickness', 'SerumInsulin', 'BMI','DiastolicBloodPressure']\n",
    "\n",
    "# for col in colunas:\n",
    "#     media = df_diabetes.loc[df_diabetes[col]>0,col].mean()\n",
    "#     df_diabetes.loc[df_diabetes[col]==0,col]=media\n",
    "    \n",
    "# with open('modelo/colesterol.pkl', 'rb') as f:\n",
    "#     model_col = pickle.load(f)\n",
    "# colesterol = model_col.predict(df_diabetes[['Age','BMI','DiastolicBloodPressure']].values)\n",
    "# df_diabetes['colesterol'] = colesterol\n",
    "\n",
    "# df_diabetes = df_diabetes[['Pregnancies', 'PlasmaGlucose', 'DiastolicBloodPressure',\n",
    "#        'TricepsThickness', 'SerumInsulin', 'BMI', 'DiabetesPedigree', 'Age','colesterol',\n",
    "#        'Diabetic']]\n",
    "\n",
    "# with open('modelo/hba1c.pkl', 'rb') as f:\n",
    "#     model_hba1c = pickle.load(f)\n",
    "# hba1c = model_hba1c.predict(df_diabetes[['Age','BMI','colesterol']].values)\n",
    "# df_diabetes['hba1c']=hba1c\n",
    "# df_diabetes = df_diabetes[['Pregnancies', 'PlasmaGlucose', 'DiastolicBloodPressure',\n",
    "#        'TricepsThickness', 'SerumInsulin', 'BMI', 'DiabetesPedigree', 'Age','colesterol','hba1c',\n",
    "#        'Diabetic']]\n",
    "# df_diabetes\n",
    "# ###Divisão dos atributos previsores\n",
    "# X_diabetes = df_diabetes.iloc[:,0:10].values\n",
    "# ###criando a classe \n",
    "# y_diabetes = df_diabetes.iloc[:,10].values\n",
    "# x_treinamento, x_teste, y_treinamento, y_teste = train_test_split(X_diabetes, y_diabetes, \\\n",
    "#                                                                   test_size=0.25,random_state=0)\n",
    "# with open('database/diabetes_no_stander.pkl',mode='wb') as f:\n",
    "#       pickle.dump([x_treinamento,y_treinamento,x_teste,y_teste],f)\n",
    "# x_treinamento.shape, x_teste.shape, y_treinamento.shape,y_teste.shape"
   ]
  },
  {
   "cell_type": "code",
   "execution_count": null,
   "metadata": {},
   "outputs": [],
   "source": [
    "# ax = plt.axes()\n",
    "# ax.errorbar(cv_results['param_max_features'],cv_results['mean_train_score'],yerr=cv_results['std_train_score'],\n",
    "#            label='Mean $\\pm$ 1 SD Traning score')\n",
    "# ax.errorbar(cv_results['param_max_features'],cv_results['mean_test_score'],yerr=cv_results['std_test_score'],\n",
    "#            label='Mean $\\pm$ 1 SD test score')\n",
    "# ax.legend()\n",
    "# plt.xlabel('max_features')\n",
    "# plt.ylabel('ROC AUC')"
   ]
  }
 ],
 "metadata": {
  "kernelspec": {
   "display_name": "Python 3",
   "language": "python",
   "name": "python3"
  },
  "language_info": {
   "codemirror_mode": {
    "name": "ipython",
    "version": 3
   },
   "file_extension": ".py",
   "mimetype": "text/x-python",
   "name": "python",
   "nbconvert_exporter": "python",
   "pygments_lexer": "ipython3",
   "version": "3.8.10"
  }
 },
 "nbformat": 4,
 "nbformat_minor": 4
}
