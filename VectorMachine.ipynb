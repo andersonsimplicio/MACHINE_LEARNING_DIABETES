{
 "cells": [
  {
   "cell_type": "code",
   "execution_count": 11,
   "metadata": {},
   "outputs": [],
   "source": [
    "from sklearn.model_selection import KFold,cross_val_score\n",
    "from sklearn.dummy import DummyClassifier\n",
    "from sklearn.model_selection import GridSearchCV\n",
    "from sklearn.svm import SVC\n",
    "import pandas as pd\n",
    "import numpy as np\n",
    "import pickle\n",
    "from sklearn.metrics import accuracy_score,confusion_matrix,classification_report\n",
    "from yellowbrick.classifier import ConfusionMatrix\n",
    "from yellowbrick.model_selection import FeatureImportances\n",
    "import matplotlib.pyplot as plt\n",
    "from pydotplus import graph_from_dot_data\n",
    "from dtreeviz.trees import dtreeviz"
   ]
  },
  {
   "cell_type": "code",
   "execution_count": 6,
   "metadata": {},
   "outputs": [],
   "source": [
    "with open('database/diabetes.pkl','rb') as f:\n",
    "    x_treinamento,y_treinamento,x_teste,y_teste = pickle.load(f)"
   ]
  },
  {
   "cell_type": "code",
   "execution_count": 7,
   "metadata": {},
   "outputs": [
    {
     "data": {
      "text/plain": [
       "((10176, 10), (10176,))"
      ]
     },
     "execution_count": 7,
     "metadata": {},
     "output_type": "execute_result"
    }
   ],
   "source": [
    "x_treinamento.shape,y_treinamento.shape"
   ]
  },
  {
   "cell_type": "code",
   "execution_count": 8,
   "metadata": {},
   "outputs": [
    {
     "data": {
      "text/plain": [
       "((3393, 10), (3393,))"
      ]
     },
     "execution_count": 8,
     "metadata": {},
     "output_type": "execute_result"
    }
   ],
   "source": [
    "x_teste.shape,y_teste.shape"
   ]
  },
  {
   "cell_type": "markdown",
   "metadata": {},
   "source": [
    "## Parâmetro Base"
   ]
  },
  {
   "cell_type": "code",
   "execution_count": 9,
   "metadata": {},
   "outputs": [
    {
     "data": {
      "text/plain": [
       "0.7211906867079281"
      ]
     },
     "execution_count": 9,
     "metadata": {},
     "output_type": "execute_result"
    }
   ],
   "source": [
    "modelo_Dummy = DummyClassifier(random_state=0,strategy=\"most_frequent\")\n",
    "modelo_Dummy.fit(x_treinamento,y_treinamento)\n",
    "previsao = modelo_Dummy.predict(x_teste) \n",
    "accuracy_score(y_teste, previsao)"
   ]
  },
  {
   "cell_type": "code",
   "execution_count": 14,
   "metadata": {},
   "outputs": [
    {
     "data": {
      "text/plain": [
       "GridSearchCV(cv=KFold(n_splits=4, random_state=None, shuffle=True),\n",
       "             estimator=SVC(random_state=0),\n",
       "             param_grid={'C': [1, 2, 3, 4],\n",
       "                         'kernel': ['rbf', 'poly', 'sigmoid', 'linear']},\n",
       "             return_train_score=True, scoring='roc_auc')"
      ]
     },
     "execution_count": 14,
     "metadata": {},
     "output_type": "execute_result"
    }
   ],
   "source": [
    "params= {'kernel':['rbf','poly','sigmoid','linear'],\n",
    "         'C':[x for x in range(1,5)],\n",
    "        }\n",
    "kf = KFold(n_splits=4,shuffle=True)\n",
    "diabetic_svm =SVC(random_state = 0)\n",
    "cv = GridSearchCV(diabetic_svm,param_grid=params,scoring='roc_auc',cv=kf,n_jobs=None,return_train_score=True)\n",
    "cv.fit(x_treinamento,y_treinamento)"
   ]
  },
  {
   "cell_type": "code",
   "execution_count": 45,
   "metadata": {},
   "outputs": [
    {
     "name": "stdout",
     "output_type": "stream",
     "text": [
      "Accuracy  media 88.17\n",
      "Intervalo Médio 87.03 - 89.30\n"
     ]
    },
    {
     "data": {
      "text/plain": [
       "SVC(C=4, random_state=0)"
      ]
     },
     "execution_count": 45,
     "metadata": {},
     "output_type": "execute_result"
    }
   ],
   "source": [
    "cv_results = pd.DataFrame(cv.cv_results_)\n",
    "cv_results.head()\n",
    "diabetic_svm_melhor = cv.best_estimator_\n",
    "score = cross_val_score(diabetic_svm_melhor,x_treinamento,y_treinamento,cv = kf)\n",
    "media =score.mean()*100\n",
    "desvio_padrao = score.std()*100\n",
    "print(f'Accuracy  media {media:.2f}')\n",
    "print(f'Intervalo Médio {media-2*desvio_padrao:.2f} - {media+2*desvio_padrao:.2f}')\n",
    "diabetic_svm_melhor"
   ]
  },
  {
   "cell_type": "code",
   "execution_count": 41,
   "metadata": {},
   "outputs": [
    {
     "data": {
      "text/plain": [
       "(SVC(C=4, random_state=0), {'C': 4, 'kernel': 'rbf'})"
      ]
     },
     "execution_count": 41,
     "metadata": {},
     "output_type": "execute_result"
    }
   ],
   "source": [
    "cv.best_estimator_,cv.best_params_"
   ]
  },
  {
   "cell_type": "code",
   "execution_count": 20,
   "metadata": {},
   "outputs": [
    {
     "name": "stdout",
     "output_type": "stream",
     "text": [
      "              precision    recall  f1-score   support\n",
      "\n",
      "           0       0.92      0.93      0.92      2447\n",
      "           1       0.82      0.78      0.80       946\n",
      "\n",
      "    accuracy                           0.89      3393\n",
      "   macro avg       0.87      0.86      0.86      3393\n",
      "weighted avg       0.89      0.89      0.89      3393\n",
      "\n"
     ]
    },
    {
     "data": {
      "image/png": "[encoded data removed]",
      "text/plain": [
       "<Figure size 576x396 with 1 Axes>"
      ]
     },
     "metadata": {},
     "output_type": "display_data"
    }
   ],
   "source": [
    "previsao = diabetic_svm_melhor.predict(x_teste)\n",
    "  \n",
    "print(classification_report(y_teste,previsao))\n",
    "cm = ConfusionMatrix(diabetic_svm_melhor,classes=['Não diabético - 0', 'Diabético - 1'])\n",
    "cm.fit(x_treinamento,y_treinamento)\n",
    "cm.score(x_teste,y_teste);"
   ]
  },
  {
   "cell_type": "code",
   "execution_count": 46,
   "metadata": {},
   "outputs": [],
   "source": [
    "with open('modelo/svm_model.pkl', 'wb') as file:\n",
    "    pickle.dump(diabetic_svm_melhor, file)"
   ]
  },
  {
   "cell_type": "code",
   "execution_count": null,
   "metadata": {},
   "outputs": [],
   "source": []
  }
 ],
 "metadata": {
  "kernelspec": {
   "display_name": "Python 3",
   "language": "python",
   "name": "python3"
  },
  "language_info": {
   "codemirror_mode": {
    "name": "ipython",
    "version": 3
   },
   "file_extension": ".py",
   "mimetype": "text/x-python",
   "name": "python",
   "nbconvert_exporter": "python",
   "pygments_lexer": "ipython3",
   "version": "3.8.10"
  }
 },
 "nbformat": 4,
 "nbformat_minor": 4
}
